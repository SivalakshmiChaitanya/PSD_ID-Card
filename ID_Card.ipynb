{
  "nbformat": 4,
  "nbformat_minor": 0,
  "metadata": {
    "colab": {
      "provenance": []
    },
    "kernelspec": {
      "name": "python3",
      "display_name": "Python 3"
    },
    "language_info": {
      "name": "python"
    }
  },
  "cells": [
    {
      "cell_type": "code",
      "execution_count": 1,
      "metadata": {
        "colab": {
          "base_uri": "https://localhost:8080/"
        },
        "id": "d7pMcuHRkIU9",
        "outputId": "4b383a63-f4e5-4acb-847b-d9061dd38913"
      },
      "outputs": [
        {
          "output_type": "stream",
          "name": "stdout",
          "text": [
            "Requirement already satisfied: pandas in /usr/local/lib/python3.10/dist-packages (2.0.3)\n",
            "Requirement already satisfied: pillow in /usr/local/lib/python3.10/dist-packages (9.4.0)\n",
            "Collecting fpdf\n",
            "  Downloading fpdf-1.7.2.tar.gz (39 kB)\n",
            "  Preparing metadata (setup.py) ... \u001b[?25l\u001b[?25hdone\n",
            "Requirement already satisfied: python-dateutil>=2.8.2 in /usr/local/lib/python3.10/dist-packages (from pandas) (2.8.2)\n",
            "Requirement already satisfied: pytz>=2020.1 in /usr/local/lib/python3.10/dist-packages (from pandas) (2023.4)\n",
            "Requirement already satisfied: tzdata>=2022.1 in /usr/local/lib/python3.10/dist-packages (from pandas) (2024.1)\n",
            "Requirement already satisfied: numpy>=1.21.0 in /usr/local/lib/python3.10/dist-packages (from pandas) (1.25.2)\n",
            "Requirement already satisfied: six>=1.5 in /usr/local/lib/python3.10/dist-packages (from python-dateutil>=2.8.2->pandas) (1.16.0)\n",
            "Building wheels for collected packages: fpdf\n",
            "  Building wheel for fpdf (setup.py) ... \u001b[?25l\u001b[?25hdone\n",
            "  Created wheel for fpdf: filename=fpdf-1.7.2-py2.py3-none-any.whl size=40702 sha256=a908d2a2800137549dbd5c1a331cc963b3cc7674720023446125732636410232\n",
            "  Stored in directory: /root/.cache/pip/wheels/f9/95/ba/f418094659025eb9611f17cbcaf2334236bf39a0c3453ea455\n",
            "Successfully built fpdf\n",
            "Installing collected packages: fpdf\n",
            "Successfully installed fpdf-1.7.2\n"
          ]
        }
      ],
      "source": [
        "pip install pandas pillow fpdf\n"
      ]
    },
    {
      "cell_type": "code",
      "source": [
        "import pandas as pd\n",
        "from PIL import Image, ImageDraw, ImageFont\n",
        "from fpdf import FPDF\n",
        "\n",
        "# Load the employee data from CSV\n",
        "employee_data = pd.read_csv('employee.csv')  # Path to your CSV file\n",
        "\n",
        "# PDF setup\n",
        "pdf = FPDF()\n",
        "pdf.set_auto_page_break(auto=True, margin=15)\n",
        "\n",
        "# Loop through each employee\n",
        "for index, employee in employee_data.iterrows():\n",
        "    # Load the ID template and employee photo\n",
        "    template_image = Image.open('ute_id_template.png')  # Path to your ID template image\n",
        "    photo_path = employee['photo_path']\n",
        "    photo_image = Image.open(photo_path).resize((100, 100))  # Adjust size as needed\n",
        "\n",
        "    # Composite the photo onto the template\n",
        "    template_image.paste(photo_image, (50, 50))  # Adjust position as needed\n",
        "\n",
        "    # Draw the text onto the template\n",
        "    draw = ImageDraw.Draw(template_image)\n",
        "    font = ImageFont.truetype(\"Arial.ttf\", 16)  # Specify a proper path to a font file if needed\n",
        "\n",
        "    # Positioning the text\n",
        "    draw.text((160, 50), employee['Name'], font=font, fill='black')\n",
        "    draw.text((160, 70), employee['Position'], font=font, fill='black')\n",
        "    draw.text((160, 90), employee['Location'], font=font, fill='black')\n",
        "\n",
        "    # Save the composite image to a temporary location\n",
        "    temp_image_path = f'temp_{index}.png'\n",
        "    template_image.save(temp_image_path)\n",
        "\n",
        "    # Add a new page and insert the ID card image\n",
        "    pdf.add_page()\n",
        "    pdf.image(temp_image_path, x=10, y=10, w=150)  # Adjust position and size as needed\n",
        "\n",
        "# Output the final PDF\n",
        "pdf.output(\"employee_ids.pdf\")\n",
        "\n",
        "# Clean up temporary files (optional)\n",
        "import os\n",
        "for index in range(len(employee_data)):\n",
        "    os.remove(f'temp_{index}.png')"
      ],
      "metadata": {
        "id": "cf8HqtBKkODr"
      },
      "execution_count": 14,
      "outputs": []
    },
    {
      "cell_type": "code",
      "source": [
        "print(employee_data.columns)"
      ],
      "metadata": {
        "colab": {
          "base_uri": "https://localhost:8080/"
        },
        "id": "2PPCDooMCsij",
        "outputId": "24ab4c57-4a4f-4025-a2e0-5c5dd8bff7b1"
      },
      "execution_count": 4,
      "outputs": [
        {
          "output_type": "stream",
          "name": "stdout",
          "text": [
            "Index(['Name', 'Postion', 'Location'], dtype='object')\n"
          ]
        }
      ]
    }
  ]
}